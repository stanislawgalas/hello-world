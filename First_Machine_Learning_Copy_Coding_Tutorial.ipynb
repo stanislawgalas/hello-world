{
 "cells": [
  {
   "cell_type": "code",
   "execution_count": 1,
   "metadata": {},
   "outputs": [
    {
     "name": "stdout",
     "output_type": "stream",
     "text": [
      "Hello World\n"
     ]
    }
   ],
   "source": [
    "print(\"Hello World\")\n"
   ]
  },
  {
   "cell_type": "code",
   "execution_count": 9,
   "metadata": {},
   "outputs": [
    {
     "name": "stdout",
     "output_type": "stream",
     "text": [
      "(10, 2)\n",
      "   Years-experience  Salary\n",
      "0                 1  110000\n",
      "1                 2  120000\n",
      "2                 3  130000\n",
      "3                 4  140000\n",
      "4                 5  150000\n",
      "5                 6  160000\n",
      "6                 7  170000\n",
      "7                 8  180000\n",
      "8                 9  190000\n",
      "9                10  200000\n",
      "       Years-experience         Salary\n",
      "count          10.00000      10.000000\n",
      "mean            5.50000  155000.000000\n",
      "std             3.02765   30276.503541\n",
      "min             1.00000  110000.000000\n",
      "25%             3.25000  132500.000000\n",
      "50%             5.50000  155000.000000\n",
      "75%             7.75000  177500.000000\n",
      "max            10.00000  200000.000000\n"
     ]
    },
    {
     "data": {
      "image/png": "[encoded data removed]",
      "text/plain": [
       "<Figure size 432x288 with 1 Axes>"
      ]
     },
     "metadata": {
      "needs_background": "light"
     },
     "output_type": "display_data"
    },
    {
     "name": "stdout",
     "output_type": "stream",
     "text": [
      "1.0\n",
      "[[163000.]]\n"
     ]
    }
   ],
   "source": [
    "import pandas\n",
    "import numpy as np\n",
    "import matplotlib.pyplot as plt\n",
    "from sklearn.metrics import accuracy_score\n",
    "\n",
    "#Load training dataset\n",
    "url = \"https://raw.githubusercontent.com/callxpert/datasets/master/data-scientist-salaries.cc\"\n",
    "names = ['Years-experience', 'Salary']\n",
    "dataset = pandas.read_csv(url, names=names)\n",
    "\n",
    "# shape\n",
    "print(dataset.shape)\n",
    "print(dataset.head(10))\n",
    "print(dataset.describe())\n",
    "\n",
    "#visualize\n",
    "dataset.plot()\n",
    "plt.show()\n",
    "\n",
    "X = dataset[['Years-experience']]\n",
    "y = dataset[['Salary']]\n",
    "from sklearn.model_selection import train_test_split\n",
    "X_train, X_test, y_train, y_test = train_test_split(X, y, test_size=0.1, random_state=101)\n",
    "\n",
    "from sklearn.linear_model import LinearRegression\n",
    "model = LinearRegression()\n",
    "model.fit(X_train,y_train)\n",
    "\n",
    "predictions = model.predict(X_test)\n",
    "print(accuracy_score(y_test,predictions))\n",
    "\n",
    "x=6.3\n",
    "a=np.reshape(x,(1,1))\n",
    "\n",
    "print(model.predict(a))"
   ]
  },
  {
   "cell_type": "code",
   "execution_count": null,
   "metadata": {},
   "outputs": [],
   "source": []
  }
 ],
 "metadata": {
  "kernelspec": {
   "display_name": "Python 3",
   "language": "python",
   "name": "python3"
  },
  "language_info": {
   "codemirror_mode": {
    "name": "ipython",
    "version": 3
   },
   "file_extension": ".py",
   "mimetype": "text/x-python",
   "name": "python",
   "nbconvert_exporter": "python",
   "pygments_lexer": "ipython3",
   "version": "3.7.3"
  }
 },
 "nbformat": 4,
 "nbformat_minor": 2
}
